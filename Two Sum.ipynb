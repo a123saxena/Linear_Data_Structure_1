{
 "cells": [
  {
   "cell_type": "code",
   "execution_count": null,
   "metadata": {},
   "outputs": [],
   "source": [
    "def find_pairs_with_sum(arr, target_sum):\n",
    "    pairs = []\n",
    "    seen_numbers = set()\n",
    "\n",
    "    for num in arr:\n",
    "        complement = target_sum - num\n",
    "\n",
    "        if complement in seen_numbers:\n",
    "            pairs.append((num, complement))\n",
    "\n",
    "        seen_numbers.add(num)\n",
    "\n",
    "    return pairs\n",
    "\n",
    "try:\n",
    "\n",
    "    input_array = input(\"Enter integers separated by spaces: \")\n",
    "    arr = list(map(int, input_array.split()))\n",
    "\n",
    "    #taeget sum\n",
    "    target_sum = int(input(\"Enter the target sum: \"))\n",
    "\n",
    "    # Finding pairs with the given target\n",
    "    result_pairs = find_pairs_with_sum(arr, target_sum)\n",
    "\n",
    "    # Displaying the result\n",
    "    if result_pairs:\n",
    "        print(\"Pairs with sum {} are: {}\".format(target_sum, result_pairs))\n",
    "    else:\n",
    "        print(\"No pairs found with the given sum.\")\n",
    "except ValueError:\n",
    "    print(\"Invalid input. Please enter valid integers.\")\n"
   ]
  }
 ],
 "metadata": {
  "kernelspec": {
   "display_name": "Python 3",
   "language": "python",
   "name": "python3"
  },
  "language_info": {
   "name": "python",
   "version": "3.12.0"
  }
 },
 "nbformat": 4,
 "nbformat_minor": 2
}
