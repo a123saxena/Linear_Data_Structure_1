{
 "cells": [
  {
   "cell_type": "code",
   "execution_count": null,
   "metadata": {},
   "outputs": [],
   "source": [
    "class TowerOfHanoi:\n",
    "    def __init__(self):\n",
    "        self.stack = []\n",
    "\n",
    "    def push(self, disk, source, target, any_num):\n",
    "        self.stack.append((disk, source, target, any_num))\n",
    "\n",
    "    def move_disk(self, disk, source, target):\n",
    "        print(f\"Move disk {disk} from {source} to {target}\")\n",
    "\n",
    "    def tower_of_hanoi(self, n, source, target, any_num):\n",
    "        self.push(n, source, target,any_num )\n",
    "\n",
    "        while self.stack:\n",
    "            disk, source, target, any_num = self.stack.pop()\n",
    "\n",
    "            if disk == 1:\n",
    "                self.move_disk(disk, source, target)\n",
    "            else:\n",
    "                # Push the subproblems onto the stack\n",
    "                self.push(disk - 1, any_num, target, source)\n",
    "                self.push(1, source, target, any_num)\n",
    "                self.push(disk - 1, source, any_num, target)\n",
    "\n",
    "# Get the number of disks from the user\n",
    "num_disks = int(input(\"Enter the number of disks: \"))\n",
    "\n",
    "# Initialize TowerOfHanoi object\n",
    "tower = TowerOfHanoi()\n",
    "\n",
    "# Solve Tower of Hanoi\n",
    "tower.tower_of_hanoi(num_disks, 'A', 'C', 'B')\n"
   ]
  }
 ],
 "metadata": {
  "kernelspec": {
   "display_name": "Python 3",
   "language": "python",
   "name": "python3"
  },
  "language_info": {
   "name": "python",
   "version": "3.12.0"
  }
 },
 "nbformat": 4,
 "nbformat_minor": 2
}
