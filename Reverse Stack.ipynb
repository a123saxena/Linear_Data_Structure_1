{
 "cells": [
  {
   "cell_type": "code",
   "execution_count": null,
   "metadata": {},
   "outputs": [],
   "source": [
    "class Stack:\n",
    "    def __init__(self):\n",
    "        self.items = []\n",
    "\n",
    "    def is_empty(self):\n",
    "        return len(self.items) == 0\n",
    "\n",
    "    def push(self, item):\n",
    "        self.items.append(item)\n",
    "\n",
    "    def pop(self):\n",
    "        if not self.is_empty():\n",
    "            return self.items.pop()\n",
    "\n",
    "    def peek(self):\n",
    "        if not self.is_empty():\n",
    "            return self.items[-1]\n",
    "\n",
    "    def size(self):\n",
    "        return len(self.items)\n",
    "\n",
    "def reverse_stack(stack):\n",
    "    helper_stack = Stack()\n",
    "\n",
    "    # Push elements from the original stack to the helper stack\n",
    "    while not stack.is_empty():\n",
    "        helper_stack.push(stack.pop())\n",
    "\n",
    "    # Push elements back to the original stack to reverse the order\n",
    "    while not helper_stack.is_empty():\n",
    "        stack.push(helper_stack.pop())\n",
    "\n",
    "user_input = input(\"Enter elements of the stack separated by spaces: \")\n",
    "stack_elements = user_input.split()\n",
    "\n",
    "# Create a stack and push the elements\n",
    "original_stack = Stack()\n",
    "for element in stack_elements:\n",
    "    original_stack.push(element)\n",
    "\n",
    "# Reverse the stack\n",
    "reverse_stack(original_stack)\n",
    "\n",
    "# Print the reversed stack\n",
    "print(\"Reversed Stack:\", end=\" \")\n",
    "while not original_stack.is_empty():\n",
    "    print(original_stack.pop(), end=\" \")\n",
    "\n"
   ]
  }
 ],
 "metadata": {
  "kernelspec": {
   "display_name": "Python 3",
   "language": "python",
   "name": "python3"
  },
  "language_info": {
   "name": "python",
   "version": "3.12.0"
  }
 },
 "nbformat": 4,
 "nbformat_minor": 2
}
