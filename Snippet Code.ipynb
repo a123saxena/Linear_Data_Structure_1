{
 "cells": [
  {
   "cell_type": "code",
   "execution_count": 1,
   "metadata": {},
   "outputs": [
    {
     "name": "stdout",
     "output_type": "stream",
     "text": [
      "All brackets are closed.\n"
     ]
    }
   ],
   "source": [
    "def are_brackets_closed(code):\n",
    "    stack = []\n",
    "    bracket_pairs = {')': '(', '}': '{', ']': '['}\n",
    "\n",
    "    for char in code:\n",
    "        if char in '({[':\n",
    "            stack.append(char)\n",
    "        elif char in ')}]':\n",
    "            if not stack or stack.pop() != bracket_pairs[char]:\n",
    "                return False\n",
    "\n",
    "    return not stack\n",
    "\n",
    "code_snippet = input(\"Enter the code snippet: \")\n",
    "result = are_brackets_closed(code_snippet)\n",
    "\n",
    "if result:\n",
    "    print(\"All brackets are closed.\")\n",
    "else:\n",
    "    print(\"Not all brackets are closed.\")\n"
   ]
  }
 ],
 "metadata": {
  "kernelspec": {
   "display_name": "Python 3",
   "language": "python",
   "name": "python3"
  },
  "language_info": {
   "codemirror_mode": {
    "name": "ipython",
    "version": 3
   },
   "file_extension": ".py",
   "mimetype": "text/x-python",
   "name": "python",
   "nbconvert_exporter": "python",
   "pygments_lexer": "ipython3",
   "version": "3.12.0"
  }
 },
 "nbformat": 4,
 "nbformat_minor": 2
}
