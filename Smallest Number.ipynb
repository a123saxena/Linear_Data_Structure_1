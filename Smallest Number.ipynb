{
 "cells": [
  {
   "cell_type": "code",
   "execution_count": null,
   "metadata": {},
   "outputs": [],
   "source": [
    "class Stack:\n",
    "    def __init__(self):\n",
    "        self.items = []\n",
    "\n",
    "    def is_empty(self):\n",
    "        return len(self.items) == 0\n",
    "\n",
    "    def push(self, item):\n",
    "        self.items.append(item)\n",
    "\n",
    "    def pop(self):\n",
    "        if not self.is_empty():\n",
    "            return self.items.pop()\n",
    "\n",
    "    def peek(self):\n",
    "        if not self.is_empty():\n",
    "            return self.items[-1]\n",
    "\n",
    "    def size(self):\n",
    "        return len(self.items)\n",
    "\n",
    "def find_smallest_number(input_stack):\n",
    "\n",
    "    min_stack = Stack()\n",
    "\n",
    "    while not input_stack.is_empty():\n",
    "        current_element = input_stack.pop()\n",
    "\n",
    "        # Update the minimum stack with the current minimum value\n",
    "        if min_stack.is_empty() or current_element < min_stack.peek():\n",
    "            min_stack.push(current_element)\n",
    "        else:\n",
    "            min_stack.push(min_stack.peek())\n",
    "\n",
    "    # The top of min_stack contains the overall minimum value\n",
    "    return min_stack.peek()\n",
    "\n",
    "user_input = input(\"Enter elements of the stack separated by spaces: \")\n",
    "input_stack = Stack()\n",
    "input_stack.items = list(map(int, user_input.split()))\n",
    "\n",
    "# Find the smallest number in the stack\n",
    "smallest_number = find_smallest_number(input_stack)\n",
    "\n",
    "# Print the result\n",
    "print(\"Smallest number in the stack:\", smallest_number)"
   ]
  }
 ],
 "metadata": {
  "kernelspec": {
   "display_name": "Python 3",
   "language": "python",
   "name": "python3"
  },
  "language_info": {
   "name": "python",
   "version": "3.12.0"
  }
 },
 "nbformat": 4,
 "nbformat_minor": 2
}
