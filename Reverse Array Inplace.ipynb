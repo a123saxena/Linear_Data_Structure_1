{
 "cells": [
  {
   "cell_type": "code",
   "execution_count": null,
   "metadata": {},
   "outputs": [],
   "source": [
    "def reverse_array(arr):\n",
    "    # Get the length of the array\n",
    "    n = len(arr)\n",
    "    \n",
    "    # Iterate through the first half of the array\n",
    "    for i in range(n // 2):\n",
    "        # Swap elements from the beginning with elements from the end\n",
    "        arr[i], arr[n - i - 1] = arr[n - i - 1], arr[i]\n",
    "\n",
    "input_array = input(\"Enter the elements of the array separated by spaces: \")\n",
    "array = list(map(int, input_array.split()))\n",
    "\n",
    "# Reverse the array in place\n",
    "reverse_array(array)\n",
    "\n",
    "# Display the reversed array\n",
    "print(\"Reversed array:\", array)\n"
   ]
  }
 ],
 "metadata": {
  "kernelspec": {
   "display_name": "Python 3",
   "language": "python",
   "name": "python3"
  },
  "language_info": {
   "name": "python",
   "version": "3.12.0"
  }
 },
 "nbformat": 4,
 "nbformat_minor": 2
}
