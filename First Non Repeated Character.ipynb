{
 "cells": [
  {
   "cell_type": "code",
   "execution_count": null,
   "metadata": {},
   "outputs": [],
   "source": [
    "def first_non_repeated_char(input_str):\n",
    "    char_count = {}\n",
    "    \n",
    "    # Count the occurrences of each character in the string\n",
    "    for char in input_str:\n",
    "        char_count[char] = char_count.get(char, 0) + 1\n",
    "    \n",
    "    # Find the first non-repeated character\n",
    "    for char in input_str:\n",
    "        if char_count[char] == 1:\n",
    "            return char\n",
    "    \n",
    "    # If no non-repeated character is found, return None\n",
    "    return None\n",
    "\n",
    "user_input = input(\"Enter a string: \")\n",
    "\n",
    "# Get the first non-repeated character\n",
    "result = first_non_repeated_char(user_input)\n",
    "\n",
    "# Print the result\n",
    "if result is not None:\n",
    "    print(\"The first non-repeated character is:\", result)\n",
    "else:\n",
    "    print(\"No non-repeated character found in the input string.\")\n"
   ]
  }
 ],
 "metadata": {
  "kernelspec": {
   "display_name": "Python 3",
   "language": "python",
   "name": "python3"
  },
  "language_info": {
   "name": "python",
   "version": "3.12.0"
  }
 },
 "nbformat": 4,
 "nbformat_minor": 2
}
