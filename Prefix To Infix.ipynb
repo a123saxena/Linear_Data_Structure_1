{
 "cells": [
  {
   "cell_type": "code",
   "execution_count": null,
   "metadata": {},
   "outputs": [],
   "source": [
    "def is_operator(char):\n",
    "    return char in {'+', '-', '*', '/'}\n",
    "\n",
    "def prefix_to_infix(prefix_expression):\n",
    "    stack = []\n",
    "    operators = {'+', '-', '*', '/'}\n",
    "\n",
    "    for char in reversed(prefix_expression):\n",
    "        if not is_operator(char):\n",
    "            stack.append(char)\n",
    "        else:\n",
    "            operand1 = stack.pop()\n",
    "            operand2 = stack.pop()\n",
    "            infix_expression = f\"({operand1} {char} {operand2})\"\n",
    "            stack.append(infix_expression)\n",
    "\n",
    "    return stack[0]\n",
    "\n",
    "def main():\n",
    "    prefix_expression = input(\"Enter the prefix expression: \").split()\n",
    "    infix_expression = prefix_to_infix(prefix_expression)\n",
    "    print(\"Infix expression:\", infix_expression)\n",
    "\n",
    "if __name__ == \"__main__\":\n",
    "    main()"
   ]
  }
 ],
 "metadata": {
  "kernelspec": {
   "display_name": "Python 3",
   "language": "python",
   "name": "python3"
  },
  "language_info": {
   "name": "python",
   "version": "3.12.0"
  }
 },
 "nbformat": 4,
 "nbformat_minor": 2
}
